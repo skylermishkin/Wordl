{
 "cells": [
  {
   "cell_type": "code",
   "execution_count": 2,
   "metadata": {
    "collapsed": true
   },
   "outputs": [],
   "source": [
    "%matplotlib inline\n",
    "import numpy as np\n",
    "import matplotlib.pyplot as plt\n",
    "from collections import defaultdict"
   ]
  },
  {
   "cell_type": "code",
   "execution_count": 8,
   "metadata": {
    "collapsed": false
   },
   "outputs": [],
   "source": [
    "# set some global variables\n",
    "\n",
    "NUM_D4 = 2\n",
    "D4_MIN = 1\n",
    "D4_MAX = 4\n",
    "MIN_WORD_LENGTH = 1\n",
    "MAX_WORD_LENGTH = 8"
   ]
  },
  {
   "cell_type": "code",
   "execution_count": 22,
   "metadata": {
    "collapsed": true
   },
   "outputs": [],
   "source": [
    "# let's try monte carlo\n",
    "\n",
    "def random_wordlength_sum():\n",
    "    num_words = 0\n",
    "    wordlength_sum = 0\n",
    "    for i in range(NUM_D4):\n",
    "        num_words += np.random.randint(D4_MIN, D4_MAX+1)\n",
    "    for i in range(num_words):\n",
    "        wordlength_sum += np.random.randint(MIN_WORD_LENGTH, MAX_WORD_LENGTH+1)\n",
    "    return wordlength_sum\n",
    "\n",
    "def monte_carlo_data(sample_size=10000):\n",
    "    hist_data = defaultdict(lambda: 0)\n",
    "    for i in range(sample_size):\n",
    "        hist_data[str(random_wordlength_sum())] += 1\n",
    "    return hist_data\n",
    "\n",
    "def hist_data_as_list(hist_data):\n",
    "    result = []\n",
    "    for e in hist_data:\n",
    "        result += [int(e)]*hist_data[e]\n",
    "    return result"
   ]
  },
  {
   "cell_type": "code",
   "execution_count": 32,
   "metadata": {
    "collapsed": false
   },
   "outputs": [],
   "source": [
    "d = monte_carlo_data(1000000)\n",
    "l = hist_data_as_list(d)\n",
    "#_ = plt.hist(l, bins=range(0,65,2))"
   ]
  },
  {
   "cell_type": "code",
   "execution_count": 41,
   "metadata": {
    "collapsed": false
   },
   "outputs": [
    {
     "name": "stdout",
     "output_type": "stream",
     "text": [
      "2 through 14 has 0.194574 probability\n",
      "15 through 19 has 0.194062 probability\n",
      "20 through 23 has 0.172689 probability\n",
      "24 through 28 has 0.191198 probability\n",
      "29 through 35 has 0.16861 probability\n",
      "36 through 64 has 0.078867 probability\n"
     ]
    }
   ],
   "source": [
    "probability_data = {}\n",
    "tot = sum([d[e] for e in d])\n",
    "for i in range(2,65):\n",
    "    prob = float(d[str(i)]) / tot\n",
    "    probability_data[str(i)] = prob\n",
    "\n",
    "start = 2\n",
    "range_sum = 0.0\n",
    "for i in range(2,65):\n",
    "    range_sum += probability_data[str(i)]\n",
    "    stop = i\n",
    "    if range_sum >= 0.1667:\n",
    "        print \"{} through {} has {} probability\".format(start, stop, range_sum)\n",
    "        start = i+1\n",
    "        range_sum = 0\n",
    "print \"{} through {} has {} probability\".format(start, stop, range_sum)"
   ]
  },
  {
   "cell_type": "code",
   "execution_count": 45,
   "metadata": {
    "collapsed": false
   },
   "outputs": [
    {
     "name": "stdout",
     "output_type": "stream",
     "text": [
      "2 through 12 has 0.132684 probability\n",
      "13 through 17 has 0.172885 probability\n",
      "18 through 21 has 0.169501 probability\n",
      "22 through 25 has 0.168132 probability\n",
      "26 through 31 has 0.196889 probability\n",
      "32 through 64 has 0.159909 probability\n"
     ]
    }
   ],
   "source": [
    "p = [(2,12), (13,17), (18,21), (22,25), (26,31), (32,64)]\n",
    "for e in p:\n",
    "    p_sum = 0\n",
    "    start = e[0]\n",
    "    stop = e[1]\n",
    "    for i in range(start, stop+1):\n",
    "        p_sum += probability_data[str(i)]\n",
    "    print \"{} through {} has {} probability\".format(start, stop, p_sum)"
   ]
  },
  {
   "cell_type": "code",
   "execution_count": null,
   "metadata": {
    "collapsed": false
   },
   "outputs": [],
   "source": []
  },
  {
   "cell_type": "code",
   "execution_count": null,
   "metadata": {
    "collapsed": true
   },
   "outputs": [],
   "source": []
  }
 ],
 "metadata": {
  "kernelspec": {
   "display_name": "Python 2",
   "language": "python",
   "name": "python2"
  },
  "language_info": {
   "codemirror_mode": {
    "name": "ipython",
    "version": 2
   },
   "file_extension": ".py",
   "mimetype": "text/x-python",
   "name": "python",
   "nbconvert_exporter": "python",
   "pygments_lexer": "ipython2",
   "version": "2.7.11"
  }
 },
 "nbformat": 4,
 "nbformat_minor": 0
}
